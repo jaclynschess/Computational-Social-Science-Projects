{
 "cells": [
  {
   "cell_type": "markdown",
   "metadata": {},
   "source": [
    "## [Computational Social Science] Project 5: Natural Language Processing"
   ]
  },
  {
   "cell_type": "markdown",
   "metadata": {},
   "source": [
    "In this project, you will use natural language processing techniques to explore a dataset containing tweets from members of the 116th United States Congress that met from January 3, 2019 to January 2, 2021. The dataset has also been cleaned to contain information about each legislator. Concretely, you will do the following:\n",
    "\n",
    "* Preprocess the text of legislators' tweets\n",
    "* Conduct Exploratory Data Analysis of the text\n",
    "* Use sentiment analysis to explore differences between legislators' tweets\n",
    "* Featurize text with manual feature engineering, frequency-based, and vector-based techniques\n",
    "* Predict legislators' political parties and whether they are a Senator or Representative\n",
    "\n",
    "You will explore two questions that relate to two central findings in political science and examine how they relate to the text of legislators' tweets. First, political scientists have argued that U.S. politics is currently highly polarized relative to other periods in American history, but also that the polarization is asymmetric. Historically, there were several conservative Democrats (i.e. \"blue dog Democrats\") and liberal Republicans (i.e. \"Rockefeller Republicans\"), as measured by popular measurement tools like [DW-NOMINATE](https://en.wikipedia.org/wiki/NOMINATE_(scaling_method)#:~:text=DW\\%2DNOMINATE\\%20scores\\%20have\\%20been,in\\%20the\\%20liberal\\%2Dconservative\\%20scale.). However, in the last few years, there are few if any examples of any Democrat in Congress being further to the right than any Republican and vice versa. At the same time, scholars have argued that this polarization is mostly a function of the Republican party moving further right than the Democratic party has moved left. **Does this sort of asymmetric polarization show up in how politicians communicate to their constituents through tweets?**\n",
    "\n",
    "Second, the U.S. Congress is a bicameral legislature, and there has long been debate about partisanship in the Senate versus the House. The House of Representatives is apportioned by population and all members serve two year terms. In the Senate, each state receives two Senators and each Senator serves a term of six years. For a variety of reasons (smaller chamber size, more insulation from the voters, rules and norms like the filibuster, etc.), the Senate has been argued to be the \"cooling saucer\" of Congress in that it is more bipartisan and moderate than the House. **Does the theory that the Senate is more moderate have support in Senators' tweets?**\n",
    "\n",
    "**Note**: See the project handout for more details on caveats and the data dictionary."
   ]
  },
  {
   "cell_type": "code",
   "execution_count": 1,
   "metadata": {},
   "outputs": [
    {
     "name": "stdout",
     "output_type": "stream",
     "text": [
      "Requirement already satisfied: scipy==1.12 in /opt/anaconda3/envs/CSS/lib/python3.12/site-packages (1.12.0)\n",
      "Requirement already satisfied: numpy<1.29.0,>=1.22.4 in /opt/anaconda3/envs/CSS/lib/python3.12/site-packages (from scipy==1.12) (1.26.4)\n",
      "Requirement already satisfied: gensim in /opt/anaconda3/envs/CSS/lib/python3.12/site-packages (4.3.2)\n",
      "Requirement already satisfied: numpy>=1.18.5 in /opt/anaconda3/envs/CSS/lib/python3.12/site-packages (from gensim) (1.26.4)\n",
      "Requirement already satisfied: scipy>=1.7.0 in /opt/anaconda3/envs/CSS/lib/python3.12/site-packages (from gensim) (1.12.0)\n",
      "Requirement already satisfied: smart-open>=1.8.1 in /opt/anaconda3/envs/CSS/lib/python3.12/site-packages (from gensim) (5.2.1)\n",
      "Requirement already satisfied: gensim in /opt/anaconda3/envs/CSS/lib/python3.12/site-packages (4.3.2)\n",
      "Requirement already satisfied: numpy>=1.18.5 in /opt/anaconda3/envs/CSS/lib/python3.12/site-packages (from gensim) (1.26.4)\n",
      "Requirement already satisfied: scipy>=1.7.0 in /opt/anaconda3/envs/CSS/lib/python3.12/site-packages (from gensim) (1.12.0)\n",
      "Requirement already satisfied: smart-open>=1.8.1 in /opt/anaconda3/envs/CSS/lib/python3.12/site-packages (from gensim) (5.2.1)\n",
      "Requirement already satisfied: tqdm in /opt/anaconda3/envs/CSS/lib/python3.12/site-packages (4.66.4)\n",
      "Requirement already satisfied: adjustText in /opt/anaconda3/envs/CSS/lib/python3.12/site-packages (1.3.0)\n",
      "Requirement already satisfied: numpy in /opt/anaconda3/envs/CSS/lib/python3.12/site-packages (from adjustText) (1.26.4)\n",
      "Requirement already satisfied: matplotlib in /opt/anaconda3/envs/CSS/lib/python3.12/site-packages (from adjustText) (3.8.4)\n",
      "Requirement already satisfied: scipy in /opt/anaconda3/envs/CSS/lib/python3.12/site-packages (from adjustText) (1.12.0)\n",
      "Requirement already satisfied: contourpy>=1.0.1 in /opt/anaconda3/envs/CSS/lib/python3.12/site-packages (from matplotlib->adjustText) (1.2.0)\n",
      "Requirement already satisfied: cycler>=0.10 in /opt/anaconda3/envs/CSS/lib/python3.12/site-packages (from matplotlib->adjustText) (0.11.0)\n",
      "Requirement already satisfied: fonttools>=4.22.0 in /opt/anaconda3/envs/CSS/lib/python3.12/site-packages (from matplotlib->adjustText) (4.51.0)\n",
      "Requirement already satisfied: kiwisolver>=1.3.1 in /opt/anaconda3/envs/CSS/lib/python3.12/site-packages (from matplotlib->adjustText) (1.4.4)\n",
      "Requirement already satisfied: packaging>=20.0 in /opt/anaconda3/envs/CSS/lib/python3.12/site-packages (from matplotlib->adjustText) (23.2)\n",
      "Requirement already satisfied: pillow>=8 in /opt/anaconda3/envs/CSS/lib/python3.12/site-packages (from matplotlib->adjustText) (10.3.0)\n",
      "Requirement already satisfied: pyparsing>=2.3.1 in /opt/anaconda3/envs/CSS/lib/python3.12/site-packages (from matplotlib->adjustText) (3.0.9)\n",
      "Requirement already satisfied: python-dateutil>=2.7 in /opt/anaconda3/envs/CSS/lib/python3.12/site-packages (from matplotlib->adjustText) (2.9.0.post0)\n",
      "Requirement already satisfied: six>=1.5 in /opt/anaconda3/envs/CSS/lib/python3.12/site-packages (from python-dateutil>=2.7->matplotlib->adjustText) (1.16.0)\n"
     ]
    }
   ],
   "source": [
    "#installations\n",
    "#!pip install textblob\n",
    "#!pip install scattertext\n",
    "#!pip install wordcloud\n",
    "!pip install scipy==1.12\n",
    "!pip install gensim\n",
    "!pip install gensim\n",
    "!pip install tqdm\n",
    "!pip install adjustText"
   ]
  },
  {
   "cell_type": "code",
   "execution_count": 2,
   "metadata": {},
   "outputs": [
    {
     "name": "stdout",
     "output_type": "stream",
     "text": [
      "Requirement already satisfied: emoji in /opt/anaconda3/envs/CSS/lib/python3.12/site-packages (2.14.1)\n"
     ]
    }
   ],
   "source": [
    "# pandas and numpy\n",
    "import pandas as pd\n",
    "import numpy as numpy\n",
    "\n",
    "# punctuation, stop words and English language model\n",
    "from string import punctuation\n",
    "from spacy.lang.en.stop_words import STOP_WORDS\n",
    "import en_core_web_sm\n",
    "nlp = en_core_web_sm.load()\n",
    "\n",
    "#emoji\n",
    "!pip install emoji\n",
    "import emoji\n",
    "\n",
    "# textblob\n",
    "\n",
    "from textblob import TextBlob\n",
    "\n",
    "# countvectorizer, tfidfvectorizer\n",
    "from sklearn.feature_extraction.text import CountVectorizer, TfidfVectorizer\n",
    "\n",
    "# gensim\n",
    "#import gensim\n",
    "#from gensim import models\n",
    "\n",
    "# plotting\n",
    "import matplotlib.pyplot as plt\n",
    "import seaborn as sns\n",
    "%matplotlib inline"
   ]
  },
  {
   "cell_type": "code",
   "execution_count": 3,
   "metadata": {},
   "outputs": [
    {
     "data": {
      "text/html": [
       "<div>\n",
       "<style scoped>\n",
       "    .dataframe tbody tr th:only-of-type {\n",
       "        vertical-align: middle;\n",
       "    }\n",
       "\n",
       "    .dataframe tbody tr th {\n",
       "        vertical-align: top;\n",
       "    }\n",
       "\n",
       "    .dataframe thead th {\n",
       "        text-align: right;\n",
       "    }\n",
       "</style>\n",
       "<table border=\"1\" class=\"dataframe\">\n",
       "  <thead>\n",
       "    <tr style=\"text-align: right;\">\n",
       "      <th></th>\n",
       "      <th>tweet_id</th>\n",
       "      <th>screen_name</th>\n",
       "      <th>datetime</th>\n",
       "      <th>text</th>\n",
       "      <th>name_wikipedia</th>\n",
       "      <th>position</th>\n",
       "      <th>joined_congress_date</th>\n",
       "      <th>birthday</th>\n",
       "      <th>gender</th>\n",
       "      <th>state</th>\n",
       "      <th>district_number</th>\n",
       "      <th>party</th>\n",
       "      <th>trump_2016_state_share</th>\n",
       "      <th>clinton_2016_state_share</th>\n",
       "      <th>obama_2012_state_share</th>\n",
       "      <th>romney_2012_state_share</th>\n",
       "    </tr>\n",
       "  </thead>\n",
       "  <tbody>\n",
       "    <tr>\n",
       "      <th>291209</th>\n",
       "      <td>1.220460e+18</td>\n",
       "      <td>RodneyDavis</td>\n",
       "      <td>2020-01-23T16:46:09-05:00</td>\n",
       "      <td>This week is #CRNAWeek and I was glad to have ...</td>\n",
       "      <td>Rodney Davis</td>\n",
       "      <td>Rep</td>\n",
       "      <td>3-Jan-13</td>\n",
       "      <td>1/5/1970</td>\n",
       "      <td>M</td>\n",
       "      <td>IL</td>\n",
       "      <td>13</td>\n",
       "      <td>Republican</td>\n",
       "      <td>2,146,015</td>\n",
       "      <td>3,090,729</td>\n",
       "      <td>3,019,512</td>\n",
       "      <td>2,135,216</td>\n",
       "    </tr>\n",
       "    <tr>\n",
       "      <th>814947</th>\n",
       "      <td>1.264000e+18</td>\n",
       "      <td>RepEscobar</td>\n",
       "      <td>2020-05-22T21:01:08-04:00</td>\n",
       "      <td>RT @ElPasoTXGov The Texas Military Dept. Mobil...</td>\n",
       "      <td>Veronica Escobar</td>\n",
       "      <td>Rep</td>\n",
       "      <td>3-Jan-19</td>\n",
       "      <td>9/15/1969</td>\n",
       "      <td>F</td>\n",
       "      <td>TX</td>\n",
       "      <td>16</td>\n",
       "      <td>Democrat</td>\n",
       "      <td>4,685,047</td>\n",
       "      <td>3,877,868</td>\n",
       "      <td>3,308,124</td>\n",
       "      <td>4,569,843</td>\n",
       "    </tr>\n",
       "    <tr>\n",
       "      <th>576705</th>\n",
       "      <td>1.206340e+18</td>\n",
       "      <td>repdelgado</td>\n",
       "      <td>2019-12-15T17:14:18-05:00</td>\n",
       "      <td>Supporting our family farmers in NY-19 must in...</td>\n",
       "      <td>Antonio Delgado</td>\n",
       "      <td>Rep</td>\n",
       "      <td>3-Jan-19</td>\n",
       "      <td>1/19/1977</td>\n",
       "      <td>M</td>\n",
       "      <td>NY</td>\n",
       "      <td>19</td>\n",
       "      <td>Democrat</td>\n",
       "      <td>2,819,533</td>\n",
       "      <td>4,556,118</td>\n",
       "      <td>4,485,741</td>\n",
       "      <td>2,490,431</td>\n",
       "    </tr>\n",
       "    <tr>\n",
       "      <th>820859</th>\n",
       "      <td>1.280600e+18</td>\n",
       "      <td>RepDanCrenshaw</td>\n",
       "      <td>2020-07-07T16:17:24-04:00</td>\n",
       "      <td>Small businesses are still struggling to get e...</td>\n",
       "      <td>Dan Crenshaw</td>\n",
       "      <td>Rep</td>\n",
       "      <td>3-Jan-19</td>\n",
       "      <td>3/14/1984</td>\n",
       "      <td>M</td>\n",
       "      <td>TX</td>\n",
       "      <td>2</td>\n",
       "      <td>Republican</td>\n",
       "      <td>4,685,047</td>\n",
       "      <td>3,877,868</td>\n",
       "      <td>3,308,124</td>\n",
       "      <td>4,569,843</td>\n",
       "    </tr>\n",
       "    <tr>\n",
       "      <th>54109</th>\n",
       "      <td>1.310970e+18</td>\n",
       "      <td>RepFrenchHill</td>\n",
       "      <td>2020-09-29T11:43:11-04:00</td>\n",
       "      <td>Each year on September 29, we celebrate Vetera...</td>\n",
       "      <td>French Hill</td>\n",
       "      <td>Rep</td>\n",
       "      <td>3-Jan-15</td>\n",
       "      <td>12/5/1956</td>\n",
       "      <td>M</td>\n",
       "      <td>AR</td>\n",
       "      <td>2</td>\n",
       "      <td>Republican</td>\n",
       "      <td>684,872</td>\n",
       "      <td>380,494</td>\n",
       "      <td>394,409</td>\n",
       "      <td>647,744</td>\n",
       "    </tr>\n",
       "  </tbody>\n",
       "</table>\n",
       "</div>"
      ],
      "text/plain": [
       "            tweet_id     screen_name                   datetime  \\\n",
       "291209  1.220460e+18     RodneyDavis  2020-01-23T16:46:09-05:00   \n",
       "814947  1.264000e+18      RepEscobar  2020-05-22T21:01:08-04:00   \n",
       "576705  1.206340e+18      repdelgado  2019-12-15T17:14:18-05:00   \n",
       "820859  1.280600e+18  RepDanCrenshaw  2020-07-07T16:17:24-04:00   \n",
       "54109   1.310970e+18   RepFrenchHill  2020-09-29T11:43:11-04:00   \n",
       "\n",
       "                                                     text    name_wikipedia  \\\n",
       "291209  This week is #CRNAWeek and I was glad to have ...      Rodney Davis   \n",
       "814947  RT @ElPasoTXGov The Texas Military Dept. Mobil...  Veronica Escobar   \n",
       "576705  Supporting our family farmers in NY-19 must in...   Antonio Delgado   \n",
       "820859  Small businesses are still struggling to get e...      Dan Crenshaw   \n",
       "54109   Each year on September 29, we celebrate Vetera...       French Hill   \n",
       "\n",
       "       position joined_congress_date   birthday gender state district_number  \\\n",
       "291209      Rep             3-Jan-13   1/5/1970      M    IL              13   \n",
       "814947      Rep             3-Jan-19  9/15/1969      F    TX              16   \n",
       "576705      Rep             3-Jan-19  1/19/1977      M    NY              19   \n",
       "820859      Rep             3-Jan-19  3/14/1984      M    TX               2   \n",
       "54109       Rep             3-Jan-15  12/5/1956      M    AR               2   \n",
       "\n",
       "             party trump_2016_state_share clinton_2016_state_share  \\\n",
       "291209  Republican              2,146,015                3,090,729   \n",
       "814947    Democrat              4,685,047                3,877,868   \n",
       "576705    Democrat              2,819,533                4,556,118   \n",
       "820859  Republican              4,685,047                3,877,868   \n",
       "54109   Republican                684,872                  380,494   \n",
       "\n",
       "       obama_2012_state_share romney_2012_state_share  \n",
       "291209              3,019,512               2,135,216  \n",
       "814947              3,308,124               4,569,843  \n",
       "576705              4,485,741               2,490,431  \n",
       "820859              3,308,124               4,569,843  \n",
       "54109                 394,409                 647,744  "
      ]
     },
     "execution_count": 3,
     "metadata": {},
     "output_type": "execute_result"
    }
   ],
   "source": [
    "# load data \n",
    "# ----------\n",
    "congress_tweets = pd.read_csv(\"data/116th Congressional Tweets and Demographics.csv\")\n",
    "# fill in this line of code with a sufficient number of tweets, depending on your computational resources\n",
    "congress_tweets = congress_tweets.sample(5000)\n",
    "congress_tweets.head()"
   ]
  },
  {
   "cell_type": "markdown",
   "metadata": {},
   "source": [
    "## Preprocessing"
   ]
  },
  {
   "cell_type": "markdown",
   "metadata": {},
   "source": [
    "The first step in working with text data is to preprocess it. Make sure you do the following:\n",
    "\n",
    "* Remove punctuation and stop words. The `rem_punc_stop()` function we used in lab is provided to you but you should feel free to edit it as necessary for other steps\n",
    "* Remove tokens that occur frequently in tweets, but may not be helpful for downstream classification. For instance, many tweets contain a flag for retweeting, or share a URL \n",
    "\n",
    "As you search online, you might run into solutions that rely on regular expressions. You are free to use these, but you should also be able to preprocess using the techniques we covered in lab. Specifically, we encourage you to use spaCy's token attributes and string methods to do some of this text preprocessing."
   ]
  },
  {
   "cell_type": "code",
   "execution_count": 76,
   "metadata": {},
   "outputs": [],
   "source": [
    "#define pre-processing function\n",
    "\n",
    "import re\n",
    "def split_camel_case(text): #split camelcase into separate words\n",
    "    if text.isupper():\n",
    "        return [text]\n",
    "    return re.split(r'(?<=[a-z])(?=[A-Z])', text)\n",
    "\n",
    "def rem_punc_stop(text):\n",
    "    stop_words = STOP_WORDS\n",
    "    punc = set(punctuation) - {\"@\"}\n",
    "\n",
    "    text_no_emojis = emoji.replace_emoji(text, replace=\"\")\n",
    "    \n",
    "    punc_free = \"\".join([ch for ch in text_no_emojis if ch not in punc])\n",
    "    \n",
    "    doc = nlp(punc_free)\n",
    "    \n",
    "    spacy_words = [token.text for token in doc]\n",
    "    \n",
    "    spacy_words = [word for word in spacy_words if not word.startswith('http')] #remove hyperlinks\n",
    "\n",
    "    spacy_words = [word.strip() for word in spacy_words if word.strip()] #remove blank space\n",
    "\n",
    "    spacy_words = [word for word in spacy_words if not word.startswith('@')] #remove mentions\n",
    "\n",
    "    spacy_words = [word for word in spacy_words if word.lower() != 'amp'] #remove ampersand\n",
    "\n",
    "    spacy_words = [word for word in spacy_words if not word.lower().endswith(('am', 'pm'))]\n",
    "\n",
    "    split_words = [split_camel_case(word) for word in spacy_words] #split Hashtags and other camel case into separate words\n",
    "    spacy_words = [token for sublist in split_words for token in sublist]\n",
    "\n",
    "    spacy_words = [word for word in spacy_words if not word.isdigit()] #remove tokens that are just numerals\n",
    "\n",
    "    spacy_words = [word for word in spacy_words if len(word)!=1]\n",
    "\n",
    "    # Remove quotation marks (straight and curly), random symbols, other  misc\n",
    "    quotes = {\"'\", '\"', \"‘\", \"’\", \"“\", \"”\", \"-\", \"--\", \"—\", \"➜\", \"QT\", \"nt\"}\n",
    "    spacy_words = [word for word in spacy_words if word.lower() not in quotes]\n",
    "\n",
    "    #remove RT and retweeted handle name:\n",
    "    filtered_words = []\n",
    "    skip_next = False\n",
    "    \n",
    "    for i, word in enumerate(spacy_words):\n",
    "        if skip_next:\n",
    "            skip_next = False  # Skip this word and reset flag\n",
    "            continue\n",
    "        if word.lower() == 'rt' and i + 1 < len(spacy_words):  # If \"RT\" appears and has a following word\n",
    "            skip_next = True  # Skip the next word\n",
    "            continue\n",
    "        filtered_words.append(word)\n",
    "    \n",
    "    no_punc = [word for word in filtered_words if word.lower() not in stop_words] #remove stop words, case insensitive\n",
    "    \n",
    "    return no_punc"
   ]
  },
  {
   "cell_type": "code",
   "execution_count": 77,
   "metadata": {},
   "outputs": [
    {
     "data": {
      "text/plain": [
       "291209                                     [week, CRNAWeek, glad, met, Janet, Mindy, district, Certified, Registered, Nurse, Anesthetists, CRNAs, active, shared, concerns, related, nursing, shortage, especially, rural, communities]\n",
       "814947                                       [Texas, Military, Dept, Mobile, Testing, continue, COVID19, testing, El, Paso, June, mobile, testing, sites, rural, community, sites, Testing, free, available, residents, symptoms, Read]\n",
       "576705                                                                              [Supporting, family, farmers, NY19, include, ensuring, access, reliable, workforce, Read, Farm, Workforce, Modernization, Act, passed, House, week]\n",
       "820859                                 [Small, businesses, struggling, employees, door, gave, people, incentive, stay, home, commonsense, bill, fix, ensure, people, hit, financially, returning, work, Speaker, Pelosi, standing, way]\n",
       "54109     [year, September, celebrate, Veterans, Foreign, Wars, Day, grateful, veterans, defended, overseas, serve, communities, today, Earlier, year, joined, VFW, Post, discussed, office, best, support, Arkansas, veterans, VFWDay]\n",
       "                                                                                                                      ...                                                                                                              \n",
       "124215                                                                                                                                                                                   [County, officials, deliver, COVID19, updates]\n",
       "501202                                                                                       [needs, finally, way, bipartisan, negotiations, pass, meaningful, bill, provides, relief, NH, families, footdragging, outrageous, harmful]\n",
       "414054                                                                                                                        [Wheeler, confirmed, EPA, Administrator, Scott, Pruitt, dangerous, legacy, continue, support, nomination]\n",
       "784285                                                                                      [Constitution, clear, standard, impeachable, offense, political, criminal, Neal, Katyal, acting, solicitor, general, Obama, administration]\n",
       "471967                                      [CARES, Act, Trump, Administration, able, assist, small, businesses, Missouri, tune, billion, critical, funding, allows, family, businesses, stay, afloat, care, workers, difficult, times]\n",
       "Name: tokens, Length: 5000, dtype: object"
      ]
     },
     "execution_count": 77,
     "metadata": {},
     "output_type": "execute_result"
    }
   ],
   "source": [
    "#apply function\n",
    "congress_tweets['tokens'] = congress_tweets['text'].map(lambda x: rem_punc_stop(x))\n",
    "congress_tweets['tokens']"
   ]
  },
  {
   "cell_type": "code",
   "execution_count": 78,
   "metadata": {},
   "outputs": [],
   "source": [
    "#check random subsets, add to rem_punc_stop as neccesary\n",
    "\n",
    "pd.set_option('display.max_colwidth', None)\n",
    "\n",
    "sampled_tweets = {}\n",
    "for i in range(1, 4):\n",
    "    sampled_tweets[f'sampled_tweets_{i}'] = congress_tweets['tokens'].sample(50, random_state=i)\n"
   ]
  },
  {
   "cell_type": "code",
   "execution_count": 79,
   "metadata": {},
   "outputs": [
    {
     "name": "stdout",
     "output_type": "stream",
     "text": [
      "343249                                                                                                                                                                 [cochair, Senate, Hunger, Caucus, believe, fighting, hunger, morally, right, thing, smart, thing, Kansas, producers, global, security, Senate, resolution, sponsored, formally, recognizes, Oct, World, Food, Day]\n",
      "110942                                                                                                                                                                                                                     [Yesterday, tragic, shooting, Milwaukee, indictment, country, failure, end, gun, violence, heart, goes, impacted, devastating, events, act, Senate, pass, HR8]\n",
      "387859                                                                                                                                                                              [1st, post, long, heartbreaking, road, tackling, gunviolence, Aurora, Newtown, Pulse, House, sitin, Parkland, look, ahead, week, House, vote, HR8, reflect, journey, taken, tragedy, finally, change]\n",
      "254571                                                                                                                                                                                                                                                                   [announced, reimburse, million, repairs, restoration, power, underground, utilities, result, Hurricane, Hermine]\n",
      "107433                                                                                                                                                                                                                                                                                                                             [Congressman, impeachment, evidence, witnesses, crime]\n",
      "140111    [interesting, Speaker, Pelosi, cherrypicking, calls, facts, tells, story, time, Democrats, opened, grab, bag, messaging, bills, stamped, names, cooked, conspiracy, theory, sham, QT, Speaker, Pelosi, announced, bringing, Congress, emergency, weekend, session, deal, socalled, crisis, FACTS, prove, Democrats, manipulating, information, order, push, conspiracy, theory]\n",
      "449469                                                                                                                                                                                                                                             [value, health, right, participate, democracy, Voting, mail, safe, secure, happening, Minnesota, plan, safely, participate, elections]\n",
      "637746                                                                                                                                                                                              [Congratulations, Master, Sgt, Matthew, Williams, receiving, Medal, Honor, today, Williams, described, honor, humbling, unexpected, considered, possibility, receiving, Medal, Honor]\n",
      "110159                                                                                                                                                                                      [week, House, Representatives, included, owners, enslaved, Africans, Ku, Klux, Klan, members, vote, legislation, finally, designate, lynching, hate, crime, federal, law, time, wait, longer]\n",
      "125069                                                                                                                                                                                                         [want, American, understand, Nancy, Pelosis, proxy, voting, scheme, means, Democrats, stay, home, rest, year, paid, Democrats, hand, power, Pelosi, vote, multiple, times]\n",
      "308608                                                                                                                                                 [President, step, insist, Congressional, Republicans, passing, relief, bill, House, Democrats, negotiate, commonsense, compromise, bipartisan, PSC, proposal, great, template, American, people, deserve, better, politics, usual]\n",
      "395608                                                                                                                                                                                                                               [years, John, Stumpf, hearing, scamming, customers, demanding, answers, Wells, Fargo, federal, regulators, deep, structural, problems, remain, bank]\n",
      "314345                                                                                                                                                                     [Today, voted, resolution, condemning, Trumps, military, Trans, Ban, hung, symbol, pride, support, outside, DC, office, Trans, Visibility, Week, actions, armed, services, community, Americans, Wont, Erased]\n",
      "538886                                                                                                                     [communities, rush, prep, dangerous, cold, POTUS, makes, jokes, potential, disaster, online, know, climate, change, contributes, extreme, weather, events, sadly, facts, nt, matter, president, QT, Winter, storms, nt, prove, global, warming, nt, happening]\n",
      "909812                                                                                                                                                                                                                                                                                                                                                                      [way, The4th]\n",
      "226714                                                                                                                                                                                                                                                                          [president, confessed, trying, cheat, election, said, law, enforcement, officer, years, open, shut, case]\n",
      "410815                                                                                                                                                                                                                                           [behalf, children, families, Massachusetts, Healthy, Families, program, serves, thank, million, emergency, funding, MIECHV, HEROES, Act]\n",
      "515950                                                                                                                                                                                               [heart, breaking, students, teachers, families, Saugus, High, School, students, Santa, Clarita, community, ve, heard, story, time, student, fear, going, school, End, Gun, Violence]\n",
      "741699                                                                                                                                                                                                           [Today, privilege, welcome, veterans, Honor, Flight, Middle, Tennessee, Sixth, Congressional, District, Washington, DC, heroes, represent, enduring, greatness, America]\n",
      "67685                                                                                                                                                                                                               [pleasure, meet, directors, Veterans, Integrated, Service, Network, VISN, discussed, ways, expand, veterans, services, CA39, increase, access, care, nations, heroes]\n",
      "376257                                                                                                                                                                                                                                                                 [Social, Security, serves, families, million, seniors, children, disabled, adults, rely, safe, better, Soc, Sec84]\n",
      "765111                                                                                                                                                                                                                                                                                                                                                                            [false]\n",
      "607151                                                                                                                                                                                                                                                                                                                            [fighter, Dan, Praying, QT, chemo, smirk, Round, begin]\n",
      "226278                                                                                                                                                                                                                          [Spencer, Taintor, selected, Congresswoman, Congressional, Application, Challenge, Winner, join, congratulating, Spencer, accomplishment, Griffin, Pride]\n",
      "470800                                                                                                                                                                                                                                                     [Justice, Department, expand, antitrust, investigation, Google, include, internet, giant, conduct, online, searches, senators]\n",
      "630826                                                                                                                                                                                                                                                                                                                                                                  [newest, members]\n",
      "938423                                                                                                                                                                                                                                                          [Trump, trade, wars, broken, promises, helped, farmers, Farmers, like, Les, want, start, delivering, results, late, SOTU]\n",
      "747312                                                                                                                                                                                                                                                                   [liberal, professors, came, Capitol, discuss, thoughts, feelings, Reminds, group, therapy, Impeachment, Inquiry]\n",
      "164498                                                                                                                                                                                                            [increasing, suicide, rate, members, extremely, concerning, ensure, Guard, care, community, need, deserve, Read, bipartisan, letter, calling, address, alarming, trend]\n",
      "640350                                                                                                                                                                                                                                                                                [Armed, Forces, accomplish, amazing, feats, nt, succeed, nt, mission, time, end, blankcheck, AUMFs]\n",
      "672725                                                                                                                                                                                        [President, openly, embraces, crueltyasdeterrence, creates, culture, abuse, horrific, report, forced, sterilizations, needs, fully, investigated, change, way, country, treats, immigrants]\n",
      "122750                                                                                                                                                     [working, giving, community, QT, want, shine, spotlight, Fullerton, resident, Jim, Lee, crisis, changed, operations, familyrun, business, face, masks, Today, Asm, Fullerton, Council, Member, delivered, nearly, masks, CA39]\n",
      "6108                                                                                                                                                                              [Floor, tomorrow, dangerous, legislation, Tie, hands, President, Repeal, counterterrorism, authorities, replacement, Senate, rejected, measures, Dems, bringing, floor, political, messaging, exercise]\n",
      "554963                                                                                                                                                                            [woman, nt, denied, health, coverage, money, makes, insured, Proud, support, Woman, Act, lifts, abortion, coverage, bans, stops, politicians, interfering, personal, decisions, woman, doctor, 4EACHof]\n",
      "467397                                                                                                                                                                                                                      [lot, words, emanate, Facebook, Hawley, told, reporters, Capitol, Hill, yesterday, company, talks, lot, like, action, think, start, things, suggested, today]\n",
      "125451                                                                                                                                                                                                 [Reminder, join, today, Virtual, Youth, Town, Hall, 5PM, PT, live, Facebook, answering, questions, submitted, CA33, students, great, opportunity, learn, Youth, Advisory, Council]\n",
      "876786                                                                                                                                                     [Taking, questions, right, digital, town, hall, Join, QT, Join, elected, business, community, nonprofit, leaders, digital, townhall, Friday, Ill, livestreaming, conversations, taking, questions, live, meeting, space, live]\n",
      "689140                                                                                                                                                               [Joining, Natural, Resource, Subcommittee, Energy, Mineral, Resources, legislative, hearing, HR, amending, Surface, Mining, Control, Reclamation, Act, continue, healing, AML, abandoned, lands, land, water, scars]\n",
      "836855                                                                                                                                                                                                                                                                                                               [voted, Team, Button, Rebecca, Paul, line, right, Davis, Elementary]\n",
      "387436                                                                                                                                                                                                                                                                                  [decades, inaction, climate, change, proud, stand, time, Act, Climate, forward, Green, New, Deal]\n",
      "285687                                                                                                                                                                                                                                                                                                                                                 [joining, PM, ET305, PM, CT, Tune]\n",
      "796651                                                                                                                                                                     [Remember, happening, single, day, fail, Secure, Border, HR1700, Mexico, number, cases, disappeared, people, surged, recently, amid, raging, violence, drug, cartels, battled, territory, trafficking, routes]\n",
      "175471                                                                                                                                                                                             [Congratulations, Thomas, Katsouleas, new, President, Looking, forward, continuing, help, UConn, maintain, enhance, quality, innovative, research, training, generation, jobs, future]\n",
      "605033                                                                                                                                                                                                     [Join, collaboration, district, forum, Represent, NYC, Tuesday, October, 27th, pm, discuss, ongoing, efforts, district, forward, amid, challenges, brought, COVID19, Facebook]\n",
      "219463                                                                                                                                                                                                                                                        [saddened, passing, fixture, Congress, strong, voice, Baltimore, Md, worked, legislation, agree, issues, respected, missed]\n",
      "293702                                                                                                                                                                                                                                                     [Womens, History, Month, lets, honor, trailblazing, women, shoulders, stand, recommit, fight, women, families, Forthe, People]\n",
      "595222                                                                                                                                                                                                      [ensure, healthcare, accessible, affordable, proud, support, Patient, Protection, Affordable, Care, Enhancement, Act, taking, action, Lower, Costs, Care, American, families]\n",
      "686379                                                                                                                                                                                                                                                                                  [new, voting, machines, time, upcoming, elections, Philadelphia, Come, try, learn, new, Real, ID]\n",
      "573988                                                                                                                                                                                                                                                              [Join, Veterans, Day, town, hall, tomorrow, Clear, Path, Chittenango, 930am, question, need, VA, help, Utica, office]\n",
      "182640                                                       [certainly, Congress, loudest, critics, Sec, interest, agent, Barr, speech, police, criticisms, current, law, overblown, claims, online, anticonservative, bias, suppress, free, speech, unacceptable, QT, Today, Justice, Department, propose, major, update, law, shields, internet, companies, liability, content, sites]\n",
      "Name: tokens, dtype: object\n"
     ]
    }
   ],
   "source": [
    "print(sampled_tweets_3)"
   ]
  },
  {
   "cell_type": "markdown",
   "metadata": {},
   "source": [
    "## Exploratory Data Analysis"
   ]
  },
  {
   "cell_type": "markdown",
   "metadata": {},
   "source": [
    "Use two of the techniques we covered in lab (or other techniques outside of lab!) to explore the text of the tweets. You should construct these visualizations with an eye toward the eventual classification tasks: (1) predicting the legislator's political party based on the text of their tweet, and (2) predicting whether the legislator is a Senator or Representative. As a reminder, in lab we covered word frequencies, word clouds, word/character counts, scattertext, and topic modeling as possible exploration tools. "
   ]
  },
  {
   "cell_type": "markdown",
   "metadata": {},
   "source": [
    "### EDA 1"
   ]
  },
  {
   "cell_type": "code",
   "execution_count": 7,
   "metadata": {},
   "outputs": [
    {
     "data": {
      "text/plain": [
       "Ellipsis"
      ]
     },
     "execution_count": 7,
     "metadata": {},
     "output_type": "execute_result"
    }
   ],
   "source": [
    "... "
   ]
  },
  {
   "cell_type": "markdown",
   "metadata": {},
   "source": [
    "### EDA 2"
   ]
  },
  {
   "cell_type": "code",
   "execution_count": 8,
   "metadata": {},
   "outputs": [
    {
     "data": {
      "text/plain": [
       "Ellipsis"
      ]
     },
     "execution_count": 8,
     "metadata": {},
     "output_type": "execute_result"
    }
   ],
   "source": [
    "..."
   ]
  },
  {
   "cell_type": "markdown",
   "metadata": {},
   "source": [
    "## Sentiment Analysis"
   ]
  },
  {
   "cell_type": "markdown",
   "metadata": {},
   "source": [
    "Next, let's analyze the sentiments contained within the tweets. You may use TextBlob or another library for these tasks. Do the following:\n",
    "\n",
    "* Choose two legislators, one who you think will be more liberal and one who you think will be more conservative, and analyze their sentiment and/or subjectivity scores per tweet. For instance, you might do two scatterplots that plot each legislator's sentiment against their subjectivity, or two density plots for their sentiments. Do the scores match what you thought?\n",
    "* Plot two more visualizations like the ones you chose in the first part, but do them to compare (1) Democrats v. Republicans and (2) Senators v. Representatives \n",
    "\n",
    "`TextBlob` has already been imported in the top cell."
   ]
  },
  {
   "cell_type": "code",
   "execution_count": 9,
   "metadata": {},
   "outputs": [
    {
     "data": {
      "text/plain": [
       "Ellipsis"
      ]
     },
     "execution_count": 9,
     "metadata": {},
     "output_type": "execute_result"
    }
   ],
   "source": [
    "..."
   ]
  },
  {
   "cell_type": "markdown",
   "metadata": {},
   "source": [
    "## Featurization"
   ]
  },
  {
   "cell_type": "markdown",
   "metadata": {},
   "source": [
    "Before going to classification, explore different featurization techniques. Create three dataframes or arrays to represent your text features, specifically:\n",
    "\n",
    "* Features engineered from your previous analysis. For example, word counts, sentiment scores, topic model etc.\n",
    "* A term frequency-inverse document frequency matrix. \n",
    "* An embedding-based featurization (like a document averaged word2vec)\n",
    "\n",
    "In the next section, you will experiment with each of these featurization techniques to see which one produces the best classifications."
   ]
  },
  {
   "cell_type": "code",
   "execution_count": 10,
   "metadata": {},
   "outputs": [
    {
     "data": {
      "text/plain": [
       "Ellipsis"
      ]
     },
     "execution_count": 10,
     "metadata": {},
     "output_type": "execute_result"
    }
   ],
   "source": [
    "..."
   ]
  },
  {
   "cell_type": "markdown",
   "metadata": {},
   "source": [
    "### Engineered Text Features"
   ]
  },
  {
   "cell_type": "code",
   "execution_count": 11,
   "metadata": {},
   "outputs": [],
   "source": [
    "# Engineered Features\n",
    "..."
   ]
  },
  {
   "cell_type": "markdown",
   "metadata": {},
   "source": [
    "### Bag-of-words or Tf-idf"
   ]
  },
  {
   "cell_type": "code",
   "execution_count": 12,
   "metadata": {},
   "outputs": [],
   "source": [
    "# Frequency Based featurization\n",
    "..."
   ]
  },
  {
   "cell_type": "markdown",
   "metadata": {},
   "source": [
    "### Word Embedding"
   ]
  },
  {
   "cell_type": "code",
   "execution_count": 13,
   "metadata": {},
   "outputs": [],
   "source": [
    "# Load Word2Vec model from Google; OPTIONAL depending on your computational resources (the file is ~1 GB)\n",
    "# Also note that this file path assumes that the word vectors are underneath 'data'; you may wish to point to the CSS course repo and change the path\n",
    "# or move the vector file to the project repo \n",
    "\n",
    "#model = gensim.models.KeyedVectors.load_word2vec_format('data/GoogleNews-vectors-negative300.bin.gz', binary = True) "
   ]
  },
  {
   "cell_type": "code",
   "execution_count": 14,
   "metadata": {},
   "outputs": [],
   "source": [
    "# Function to average word embeddings for a document; use examples from lab to apply this function. You can use also other techniques such as PCA and doc2vec instead.\n",
    "def document_vector(word2vec_model, doc):\n",
    "    doc = [word for word in doc if word in model.vocab]\n",
    "    return np.mean(model[doc], axis=0)"
   ]
  },
  {
   "cell_type": "code",
   "execution_count": 15,
   "metadata": {},
   "outputs": [],
   "source": [
    "# embedding based featurization\n",
    "..."
   ]
  },
  {
   "cell_type": "markdown",
   "metadata": {},
   "source": [
    "## Classification"
   ]
  },
  {
   "cell_type": "markdown",
   "metadata": {},
   "source": [
    "Either use cross-validation or partition your data with training/validation/test sets for this section. Do the following:\n",
    "\n",
    "* Choose a supervised learning algorithm such as logistic regression, random forest etc. \n",
    "* Train six models. For each of the three dataframes you created in the featurization part, train one model to predict whether the author of the tweet is a Democrat or Republican, and a second model to predict whether the author is a Senator or Representative.\n",
    "* Report the accuracy and other relevant metrics for each of these six models.\n",
    "* Choose the featurization technique associated with your best model. Combine those text features with non-text features. Train two more models: (1) A supervised learning algorithm that uses just the non-text features and (2) a supervised learning algorithm that combines text and non-text features. Report accuracy and other relevant metrics. \n",
    "\n",
    "If time permits, you are encouraged to use hyperparameter tuning or AutoML techniques like TPOT, but are not explicitly required to do so."
   ]
  },
  {
   "cell_type": "markdown",
   "metadata": {},
   "source": [
    "### Train Six Models with Just Text"
   ]
  },
  {
   "cell_type": "code",
   "execution_count": 16,
   "metadata": {},
   "outputs": [],
   "source": [
    "# six models ([engineered features, frequency-based, embedding] * [democrat/republican, senator/representative])\n",
    "..."
   ]
  },
  {
   "cell_type": "markdown",
   "metadata": {},
   "source": [
    "### Two Combined Models"
   ]
  },
  {
   "cell_type": "code",
   "execution_count": 17,
   "metadata": {},
   "outputs": [],
   "source": [
    "# two models ([best text features + non-text features] * [democrat/republican, senator/representative])\n",
    "..."
   ]
  },
  {
   "cell_type": "markdown",
   "metadata": {},
   "source": [
    "## Discussion Questions"
   ]
  },
  {
   "cell_type": "markdown",
   "metadata": {},
   "source": [
    "1. Why do standard preprocessing techniques need to be further customized to a particular corpus?"
   ]
  },
  {
   "cell_type": "markdown",
   "metadata": {},
   "source": [
    "**YOUR ANSWER HERE** ..."
   ]
  },
  {
   "cell_type": "markdown",
   "metadata": {},
   "source": [
    "2. Did you find evidence for the idea that Democrats and Republicans have different sentiments in their tweets? What about Senators and Representatives?"
   ]
  },
  {
   "cell_type": "markdown",
   "metadata": {},
   "source": [
    "**YOUR ANSWER HERE** ..."
   ]
  },
  {
   "cell_type": "markdown",
   "metadata": {},
   "source": [
    "3. Why is validating your exploratory and unsupervised learning approaches with a supervised learning algorithm valuable?"
   ]
  },
  {
   "cell_type": "markdown",
   "metadata": {},
   "source": [
    "**YOUR ANSWER HERE** ..."
   ]
  },
  {
   "cell_type": "markdown",
   "metadata": {},
   "source": [
    "4. Did text only, non-text only, or text and non-text features together perform the best? What is the intuition behind combining text and non-text features in a supervised learning algorithm?"
   ]
  },
  {
   "cell_type": "markdown",
   "metadata": {},
   "source": [
    "**YOUR ANSWER HERE** ..."
   ]
  }
 ],
 "metadata": {
  "kernelspec": {
   "display_name": "Python 3 (ipykernel)",
   "language": "python",
   "name": "python3"
  },
  "language_info": {
   "codemirror_mode": {
    "name": "ipython",
    "version": 3
   },
   "file_extension": ".py",
   "mimetype": "text/x-python",
   "name": "python",
   "nbconvert_exporter": "python",
   "pygments_lexer": "ipython3",
   "version": "3.12.4"
  }
 },
 "nbformat": 4,
 "nbformat_minor": 4
}
